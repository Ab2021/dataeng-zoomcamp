{
 "cells": [
  {
   "cell_type": "markdown",
   "metadata": {},
   "source": [
    "https://enrico-alemani.medium.com/flatten-nested-dictionaries-in-pandas-using-glom-7948345c88f5\n",
    "https://stackoverflow.com/questions/40588852/pandas-read-nested-json\n",
    "https://stackoverflow.com/questions/35932060/dataframe-of-dataframes-in-python-pandas\n",
    "https://www.statology.org/pandas-keep-columns/\n",
    "https://chriswilcox.dev/blog/2020/09/02/Diving_into_GitHub_with_BigQuery_and_Python.html\n"
   ]
  },
  {
   "cell_type": "code",
   "execution_count": 19,
   "metadata": {},
   "outputs": [],
   "source": [
    "import pandas as pd\n",
    "from glom import glom\n",
    "from ast import literal_eval\n",
    "import json"
   ]
  },
  {
   "cell_type": "code",
   "execution_count": 18,
   "metadata": {},
   "outputs": [],
   "source": [
    "f = open('test3.json')"
   ]
  },
  {
   "cell_type": "code",
   "execution_count": null,
   "metadata": {},
   "outputs": [],
   "source": [
    "df = "
   ]
  },
  {
   "cell_type": "code",
   "execution_count": 2,
   "metadata": {},
   "outputs": [],
   "source": [
    "df = pd.read_json(r'test3.json', lines=True)"
   ]
  },
  {
   "cell_type": "code",
   "execution_count": 3,
   "metadata": {},
   "outputs": [
    {
     "data": {
      "text/plain": [
       "<bound method NDFrame.describe of              id              type  \\\n",
       "0   20926542665        WatchEvent   \n",
       "1   20926542666         PushEvent   \n",
       "2   20926542668         PushEvent   \n",
       "3   20926542669         PushEvent   \n",
       "4   20926542670       CreateEvent   \n",
       "..          ...               ...   \n",
       "94  20926543096       CreateEvent   \n",
       "95  20926543103         PushEvent   \n",
       "96  20926543104         PushEvent   \n",
       "97  20926543112         PushEvent   \n",
       "98  20926543121  PullRequestEvent   \n",
       "\n",
       "                                                actor  \\\n",
       "0   {'id': 15946300, 'login': 'TakuyaSama', 'displ...   \n",
       "1   {'id': 65102752, 'login': 'EnriqueZav96', 'dis...   \n",
       "2   {'id': 98759111, 'login': 'Haus2022', 'display...   \n",
       "3   {'id': 56419546, 'login': 'katiebankhead', 'di...   \n",
       "4   {'id': 101942046, 'login': 'aim-solva', 'displ...   \n",
       "..                                                ...   \n",
       "94  {'id': 102333797, 'login': 'KaylanTz', 'displa...   \n",
       "95  {'id': 62687145, 'login': 'vpnsuperapp', 'disp...   \n",
       "96  {'id': 58262342, 'login': 'Razvie-arr', 'displ...   \n",
       "97  {'id': 71983, 'login': 'scoates', 'display_log...   \n",
       "98  {'id': 80079750, 'login': 'daviosoo', 'display...   \n",
       "\n",
       "                                                 repo  \\\n",
       "0   {'id': 158927812, 'name': 'Peltoche/lsd', 'url...   \n",
       "1   {'id': 473727157, 'name': 'EnriqueZav96/JetPER...   \n",
       "2   {'id': 473805096, 'name': 'Haus2022/OTOWY', 'u...   \n",
       "3   {'id': 442297971, 'name': 'ajhayden/TechnicalI...   \n",
       "4   {'id': 473810845, 'name': 'aim-solva/ZFC', 'ur...   \n",
       "..                                                ...   \n",
       "94  {'id': 473810859, 'name': 'KaylanTz/Portafolio...   \n",
       "95  {'id': 250208038, 'name': 'vpnsuperapp/fast', ...   \n",
       "96  {'id': 473366273, 'name': 'Razvie-arr/snakeJS'...   \n",
       "97  {'id': 289770666, 'name': 'scoates/scraped-dat...   \n",
       "98  {'id': 466324042, 'name': 'daviosoo/MercadoLib...   \n",
       "\n",
       "                                              payload  public  \\\n",
       "0                               {'action': 'started'}    True   \n",
       "1   {'push_id': 9442922778, 'size': 1, 'distinct_s...    True   \n",
       "2   {'push_id': 9442922783, 'size': 1, 'distinct_s...    True   \n",
       "3   {'push_id': 9442922787, 'size': 3, 'distinct_s...    True   \n",
       "4   {'ref': None, 'ref_type': 'repository', 'maste...    True   \n",
       "..                                                ...     ...   \n",
       "94  {'ref': None, 'ref_type': 'repository', 'maste...    True   \n",
       "95  {'push_id': 9442923012, 'size': 1, 'distinct_s...    True   \n",
       "96  {'push_id': 9442923015, 'size': 1, 'distinct_s...    True   \n",
       "97  {'push_id': 9442923011, 'size': 1, 'distinct_s...    True   \n",
       "98  {'action': 'opened', 'number': 5, 'pull_reques...    True   \n",
       "\n",
       "                  created_at  org  \n",
       "0  2022-03-25 00:00:00+00:00  NaN  \n",
       "1  2022-03-25 00:00:00+00:00  NaN  \n",
       "2  2022-03-25 00:00:00+00:00  NaN  \n",
       "3  2022-03-25 00:00:00+00:00  NaN  \n",
       "4  2022-03-25 00:00:00+00:00  NaN  \n",
       "..                       ...  ...  \n",
       "94 2022-03-25 00:00:03+00:00  NaN  \n",
       "95 2022-03-25 00:00:03+00:00  NaN  \n",
       "96 2022-03-25 00:00:03+00:00  NaN  \n",
       "97 2022-03-25 00:00:03+00:00  NaN  \n",
       "98 2022-03-25 00:00:03+00:00  NaN  \n",
       "\n",
       "[99 rows x 8 columns]>"
      ]
     },
     "execution_count": 3,
     "metadata": {},
     "output_type": "execute_result"
    }
   ],
   "source": [
    "df.describe"
   ]
  },
  {
   "cell_type": "code",
   "execution_count": 11,
   "metadata": {},
   "outputs": [
    {
     "data": {
      "text/plain": [
       "0     {'id': 158927812, 'name': 'Peltoche/lsd', 'url...\n",
       "1     {'id': 473727157, 'name': 'EnriqueZav96/JetPER...\n",
       "2     {'id': 473805096, 'name': 'Haus2022/OTOWY', 'u...\n",
       "3     {'id': 442297971, 'name': 'ajhayden/TechnicalI...\n",
       "4     {'id': 473810845, 'name': 'aim-solva/ZFC', 'ur...\n",
       "                            ...                        \n",
       "94    {'id': 473810859, 'name': 'KaylanTz/Portafolio...\n",
       "95    {'id': 250208038, 'name': 'vpnsuperapp/fast', ...\n",
       "96    {'id': 473366273, 'name': 'Razvie-arr/snakeJS'...\n",
       "97    {'id': 289770666, 'name': 'scoates/scraped-dat...\n",
       "98    {'id': 466324042, 'name': 'daviosoo/MercadoLib...\n",
       "Name: repo, Length: 99, dtype: object"
      ]
     },
     "execution_count": 11,
     "metadata": {},
     "output_type": "execute_result"
    }
   ],
   "source": [
    "df.repo"
   ]
  }
 ],
 "metadata": {
  "interpreter": {
   "hash": "c2b41a47e6020a20c0b91a6a5aa95c0edb1d8c1f6cda16fb7cb6bd4da6fcb36a"
  },
  "kernelspec": {
   "display_name": "Python 3.9.9 ('dataeng')",
   "language": "python",
   "name": "python3"
  },
  "language_info": {
   "codemirror_mode": {
    "name": "ipython",
    "version": 3
   },
   "file_extension": ".py",
   "mimetype": "text/x-python",
   "name": "python",
   "nbconvert_exporter": "python",
   "pygments_lexer": "ipython3",
   "version": "3.9.9"
  },
  "orig_nbformat": 4
 },
 "nbformat": 4,
 "nbformat_minor": 2
}
